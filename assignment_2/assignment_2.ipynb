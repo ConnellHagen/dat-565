{
 "cells": [
  {
   "cell_type": "markdown",
   "metadata": {},
   "source": [
    "# Scraping\n",
    "To start, we have a folder of 40 HTML files that we are going to scrape the housing data from. We start by creating an array with all of the file names, then we can open each file to get its data."
   ]
  },
  {
   "cell_type": "code",
   "execution_count": 3,
   "metadata": {},
   "outputs": [],
   "source": [
    "from bs4 import BeautifulSoup\n",
    "import pandas as pd\n",
    "import re\n",
    "\n",
    "# the names of every html file that is going to have its data scraped\n",
    "filenames = [];\n",
    "for i in range(1, 41):\n",
    "    if i < 10:\n",
    "        filenames += [f\"kungalv_slutpriser/kungalv_slutpris_page_0{i}.html\"]\n",
    "    else:\n",
    "        filenames += [f\"kungalv_slutpriser/kungalv_slutpris_page_{i}.html\"]\n",
    "\n",
    "values = []"
   ]
  },
  {
   "cell_type": "markdown",
   "metadata": {},
   "source": [
    "Now that we have all of the file names, we can fill up the `values` array with the data that we are looking for. This process looks different for each data point, but the main idea is that we find a uniquely identifiable DOM object, and then work our way to the nearby data from there."
   ]
  },
  {
   "cell_type": "code",
   "execution_count": 4,
   "metadata": {},
   "outputs": [],
   "source": [
    "for filename in filenames:\n",
    "    with open(filename, 'r', encoding=\"utf-8\") as f:\n",
    "        html = f.read()\n",
    "\n",
    "    soup = BeautifulSoup(html, 'html.parser')\n",
    "\n",
    "    for cell in soup.find_all('li', class_ = 'sold-results__normal-hit'):\n",
    "        # card is the current \"card\" on the page that contains the information for one house\n",
    "        card = cell.a.div\n",
    "\n",
    "        date_sold = card.find('span', class_ = 'hcl-label--sold-at').text.strip()\n",
    "        sold_tokens = date_sold.split(' ')\n",
    "        date_sold = sold_tokens[1] + \" \" + sold_tokens[2] + \" \" + sold_tokens[3]\n",
    "\n",
    "        address = card.find('h2', class_ = 'sold-property-listing__heading').text.strip()\n",
    "\n",
    "        location = card.find('div', class_ = 'sold-property-listing__location').div.text.strip()[24:]\n",
    "        location_tokens = location.split(',')\n",
    "\n",
    "        for i in range (0, len(location_tokens)):\n",
    "            location_tokens[i] = re.search(\"(\\\\w+.*)\", location_tokens[i]).group(1)\n",
    "        location = location_tokens[0]\n",
    "        for i in range(1, len(location_tokens)):\n",
    "            location += (\", \" + location_tokens[i])\n",
    "\n",
    "        living_area_and_rooms = card.find('div', class_ = 'sold-property-listing__area')\n",
    "        contains_m2 = living_area_and_rooms.text.strip().find('m²')\n",
    "        laar_tokens = living_area_and_rooms.text.strip().split('m²')\n",
    "        living_area = \"\"\n",
    "\n",
    "\n",
    "        if len(laar_tokens) == 2:\n",
    "            living_areas_tokens = laar_tokens[0].split('+')\n",
    "            if (len(living_areas_tokens) == 1):\n",
    "                living_area = re.search(\"(\\\\d+)\", living_areas_tokens[0]).group(1)\n",
    "            else:\n",
    "                living_area = re.search(\"(\\\\d+)\", living_areas_tokens[0]).group(1) + \"+\" + \\\n",
    "                            re.search(\"(\\\\d+).*$\", living_areas_tokens[1]).group(1)\n",
    "            \n",
    "            rooms = re.search('(\\\\d+)\\xa0rum', laar_tokens[1])\n",
    "            if (rooms == None):\n",
    "                rooms = \"\"\n",
    "            else:\n",
    "                rooms = rooms.group(1)\n",
    "\n",
    "        elif len(laar_tokens) != 2 and contains_m2 != -1:\n",
    "            living_areas_tokens = laar_tokens[0].split('+')\n",
    "            if (len(living_areas_tokens) == 1):\n",
    "                living_area = re.search(\"(\\\\d+)\", living_areas_tokens[0]).group(1)\n",
    "            else:\n",
    "                living_area = re.search(\"(\\\\d+)\", living_areas_tokens[0]).group(1) + \"+\" + \\\n",
    "                            re.search(\"(\\\\d+).*$\", living_areas_tokens[1]).group(1)\n",
    "        else:\n",
    "            rooms = re.search('(\\\\d+)\\xa0rum', laar_tokens[0])\n",
    "            if (rooms == None):\n",
    "                rooms = \"\"\n",
    "            else:\n",
    "                rooms = rooms.group(1)\n",
    "\n",
    "        plot_area = card.find('div', class_ = \"sold-property-listing__land-area\")\n",
    "        if plot_area == None:\n",
    "            plot_area = \"\"\n",
    "        else:\n",
    "            plot_area = plot_area.text.strip()[:-8].replace(\"\\xa0\", \"\")\n",
    "\n",
    "        closing_price = card.find('span', class_ = \"hcl-text hcl-text--medium\")\n",
    "        closing_price = closing_price.text.strip()[9:-3].replace(\"\\xa0\", \"\")\n",
    "\n",
    "        values.append([date_sold, address, location, living_area, rooms, plot_area, closing_price])"
   ]
  },
  {
   "cell_type": "markdown",
   "metadata": {},
   "source": [
    "Lastly for out scraping process, we take the data in `values`, convert it to a dataframe, and then make it into a csv file that can be used by others for graphing, etc."
   ]
  },
  {
   "cell_type": "code",
   "execution_count": 5,
   "metadata": {},
   "outputs": [],
   "source": [
    "data = list()\n",
    "for val in values:\n",
    "    row = {\n",
    "        \"Date Sold\" : val[0],\n",
    "        \"Address\" : val[1],\n",
    "        \"Location\" : val[2],\n",
    "        \"Living Area\" : val[3],\n",
    "        \"Rooms\" : val[4],\n",
    "        \"Plot Area\" : val[5],\n",
    "        \"Closing Price\" : val[6]\n",
    "    }\n",
    "    data.append(row)\n",
    "\n",
    "data = pd.DataFrame(data)\n",
    "\n",
    "data.to_csv(\"housing_data.csv\", index = None)\n"
   ]
  },
  {
   "cell_type": "markdown",
   "metadata": {},
   "source": [
    "# Plotting\n",
    "Next, we use the csv we just created, load it in another script, and create plots with the data from 2022."
   ]
  },
  {
   "cell_type": "code",
   "execution_count": 6,
   "metadata": {},
   "outputs": [],
   "source": [
    "import matplotlib.pyplot as plt\n",
    "\n",
    "df = pd.read_csv(\"housing_data.csv\")\n",
    "df_2022 = df.loc[df[\"Date Sold\"].str.contains(\"2022\")]"
   ]
  },
  {
   "cell_type": "markdown",
   "metadata": {},
   "source": [
    "First we took at look at the distribution of the data by looking at the min/max values, and each quartile."
   ]
  },
  {
   "cell_type": "code",
   "execution_count": null,
   "metadata": {},
   "outputs": [],
   "source": [
    "\n",
    "closing_price_data = {\n",
    "    \"minmum\": df_2022[\"Closing Price\"].min(),\n",
    "    \"maxmimum\": df_2022[\"Closing Price\"].max(),\n",
    "    \"first_q\": df_2022[\"Closing Price\"].quantile(0.25),\n",
    "    \"median\": df_2022[\"Closing Price\"].median(),\n",
    "    \"third_q\": df_2022[\"Closing Price\"].quantile(0.75)\n",
    "}\n",
    "\n",
    "closing_price_data"
   ]
  },
  {
   "cell_type": "markdown",
   "metadata": {},
   "source": [
    "Next, we graphed the closing prices of these houses using a histogram with 11 bins. We determined this number by using Scott's rule to calculate the optimal number."
   ]
  },
  {
   "cell_type": "code",
   "execution_count": null,
   "metadata": {},
   "outputs": [],
   "source": [
    "plt.hist(df_2022[\"Closing Price\"], bins = 11)\n",
    "plt.title(\"House Closing Prices in Kungälv 2022\")\n",
    "plt.xlabel(\"Price in Tens of Millions of SEK\")\n",
    "plt.ylabel(\"Number of Houses Sold\")"
   ]
  },
  {
   "cell_type": "markdown",
   "metadata": {},
   "source": [
    "Next, we graphed the relationship between closing price and living area (boarea) of the houses sold."
   ]
  },
  {
   "cell_type": "code",
   "execution_count": null,
   "metadata": {},
   "outputs": [],
   "source": [
    "closing_prices = df_2022[\"Closing Price\"]\n",
    "boareas = df_2022[\"Living Area\"].str.split(\"+\").str[0].astype(\"float64\")\n",
    "rooms = df_2022[\"Rooms\"]\n",
    "\n",
    "plt.scatter(closing_prices, boareas, s = 20)\n",
    "plt.title(\"Price and Boarea of Houses Sold in Kungälv in 2022\")\n",
    "plt.xlabel(\"Price in Tens of Millions of SEK\")\n",
    "plt.ylabel(\"Boarea in m²\")\n",
    "plt.show()"
   ]
  },
  {
   "cell_type": "markdown",
   "metadata": {},
   "source": [
    "Lastly, We added colors to distinguish between how many rooms each house had."
   ]
  },
  {
   "cell_type": "code",
   "execution_count": null,
   "metadata": {},
   "outputs": [],
   "source": [
    "plt.scatter(closing_prices[(rooms <= 2)], boareas[(rooms <= 2)], s = 20, color = 'red', label = '0 - 2')\n",
    "plt.scatter(closing_prices[(rooms <= 4) & (rooms > 2)], boareas[(rooms <= 4) & (rooms > 2)], s = 20, color = 'orange', label = '3 - 4')\n",
    "plt.scatter(closing_prices[(rooms <= 6) & (rooms > 4)], boareas[(rooms <= 6) & (rooms > 4)], s = 20, color = '#FFD700', label = '5 - 6')\n",
    "plt.scatter(closing_prices[(rooms <= 8) & (rooms > 6)], boareas[(rooms <= 8) & (rooms > 6)], s = 20, color = 'green', label = '7 - 8')\n",
    "plt.scatter(closing_prices[(rooms >= 9)], boareas[(rooms >= 9)], s = 20, color = 'blue', label = '9+')\n",
    "plt.title(\"Price and Boarea of Houses Sold in Kungälv in 2022\")\n",
    "plt.xlabel(\"Price in Tens of Millions of SEK\")\n",
    "plt.ylabel(\"Boarea in m²\")\n",
    "plt.legend(title = \"Number of Rooms\")"
   ]
  }
 ],
 "metadata": {
  "kernelspec": {
   "display_name": ".venv",
   "language": "python",
   "name": "python3"
  },
  "language_info": {
   "codemirror_mode": {
    "name": "ipython",
    "version": 3
   },
   "file_extension": ".py",
   "mimetype": "text/x-python",
   "name": "python",
   "nbconvert_exporter": "python",
   "pygments_lexer": "ipython3",
   "version": "3.12.5"
  }
 },
 "nbformat": 4,
 "nbformat_minor": 2
}
