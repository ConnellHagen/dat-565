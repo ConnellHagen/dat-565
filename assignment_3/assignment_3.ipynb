{
 "cells": [
  {
   "cell_type": "markdown",
   "metadata": {},
   "source": [
    "Setup: To start, we import everything that we need in the program, and define some functions that we use frequently. `get_confusion_values()` and `get_apr_values()` are used later on to make comparing models a lot easier."
   ]
  },
  {
   "cell_type": "code",
   "execution_count": 3,
   "metadata": {},
   "outputs": [],
   "source": [
    "import numpy as np\n",
    "import pandas as pd\n",
    "import os\n",
    "import re\n",
    "from sklearn.model_selection import train_test_split\n",
    "from sklearn.feature_extraction.text import CountVectorizer\n",
    "from sklearn.preprocessing import LabelEncoder\n",
    "from sklearn.naive_bayes import BernoulliNB\n",
    "from sklearn.naive_bayes import MultinomialNB\n",
    "\n",
    "# takes a directory of files, and a label, and returns a\n",
    "# list of 2-tuples of each file's contents, and the given label\n",
    "def get_email_content(dir, label):\n",
    "    files = []\n",
    "    for filename in os.listdir(dir):\n",
    "        path = os.path.join(dir, filename)\n",
    "        if os.path.isfile(path):\n",
    "            try:\n",
    "                with open(path, encoding=\"utf-8\") as f:\n",
    "                    files += [(clean_email(f.read()), label)]\n",
    "            except:\n",
    "                pass\n",
    "    return files\n",
    "\n",
    "# if we want to clean the emails we can modify this function\n",
    "# however, our proposed way of removing the headers actually\n",
    "# decreased the accuracy of the models\n",
    "def clean_email(content):\n",
    "    # remove_header = '\\\\n\\\\n'\n",
    "    # email_parts = re.split(remove_header, content)\n",
    "    # if (len(email_parts) == 1):\n",
    "    #     return email_parts[0]\n",
    "    # else:\n",
    "    #     return email_parts[1]\n",
    "    return content\n",
    "\n",
    "def get_confusion_values(y_test_inv, y_pred_inv, label):\n",
    "    tp = ((y_test_inv == label) & (y_pred_inv == label)).sum()\n",
    "    fp = ((y_test_inv != label) & (y_pred_inv == label)).sum()\n",
    "    fn = ((y_test_inv == label) & (y_pred_inv != label)).sum()\n",
    "    tn = ((y_test_inv != label) & (y_pred_inv != label)).sum()\n",
    "    return tp, fp, fn, tn\n",
    "\n",
    "def get_apr_values(tp, fp, fn, tn):\n",
    "    accuracy = (tp + tn) / (tp + fp + fn + tn)\n",
    "    precision = tp / (tp + fp)\n",
    "    recall = tp / (tp + fn)\n",
    "    return accuracy, precision, recall"
   ]
  },
  {
   "cell_type": "markdown",
   "metadata": {},
   "source": [
    "Next, we create our training and test datasets by going through each file in our test directories, and then putting them in a dataframe, which we then split into sets."
   ]
  },
  {
   "cell_type": "code",
   "execution_count": 4,
   "metadata": {},
   "outputs": [],
   "source": [
    "SEED = 12345678\n",
    "easy_ham_dir = 'easy_ham'\n",
    "hard_ham_dir = 'hard_ham'\n",
    "spam_dir = 'spam'\n",
    "\n",
    "easy_ham_files = get_email_content(easy_ham_dir, \"Ham\")\n",
    "hard_ham_files = get_email_content(hard_ham_dir, \"Ham\")\n",
    "spam_files = get_email_content(spam_dir, \"Spam\")\n",
    "\n",
    "# to switch between the easy_ham and hard_ham dataset,\n",
    "# swap out either easy_ham_files or hard_ham_files for the\n",
    "# other here\n",
    "records = easy_ham_files + spam_files\n",
    "\n",
    "df = pd.DataFrame.from_records(records, columns=[\"Email\", \"Type\"])\n",
    "df_train, df_test = train_test_split(df, random_state=SEED, test_size=0.25)"
   ]
  },
  {
   "cell_type": "markdown",
   "metadata": {},
   "source": [
    "Next we prepared our data for fitting to a model by using CountVectorizer to count and vectorize our data, and LabelEncoder to assign a numeric label for each of our plain-text labels."
   ]
  },
  {
   "cell_type": "code",
   "execution_count": 5,
   "metadata": {},
   "outputs": [],
   "source": [
    "cv = CountVectorizer()\n",
    "x_train = cv.fit_transform(df_train[\"Email\"])\n",
    "x_test = cv.transform(df_test[\"Email\"])\n",
    "\n",
    "le = LabelEncoder()\n",
    "y_train = le.fit_transform(df_train[\"Type\"])\n",
    "y_test = le.transform(df_test[\"Type\"])\n",
    "y_test_inv = le.inverse_transform(y_test)"
   ]
  },
  {
   "cell_type": "markdown",
   "metadata": {},
   "source": [
    "Finally, we trained 2 models using a Bernoulli Naive Bayes and a Multinomial Naive Bayes model. We then used the methods defined earlier to calculate the accuracy, precision, and recall for our models."
   ]
  },
  {
   "cell_type": "code",
   "execution_count": 8,
   "metadata": {},
   "outputs": [
    {
     "name": "stdout",
     "output_type": "stream",
     "text": [
      "BNB: 0.9165487977369166, 0.9142419601837672, 0.995\n",
      "MNB: 0.9688826025459689, 0.9661290322580646, 0.9983333333333333\n"
     ]
    }
   ],
   "source": [
    "bnb = BernoulliNB()\n",
    "bnb.fit(x_train, y_train)\n",
    "y_pred_bnb = bnb.predict(x_test)\n",
    "y_pred_bnb_inv = le.inverse_transform(y_pred_bnb)\n",
    "acc_bnb, pre_bnb, rec_bnb = get_apr_values(*get_confusion_values(y_test_inv, y_pred_bnb_inv, \"Ham\"))\n",
    "\n",
    "mnb = MultinomialNB()\n",
    "mnb.fit(x_train, y_train)\n",
    "y_pred_mnb = mnb.predict(x_test)\n",
    "y_pred_mnb_inv = le.inverse_transform(y_pred_mnb)\n",
    "acc_mnb, pre_mnb, rec_mnb = get_apr_values(*get_confusion_values(y_test_inv, y_pred_mnb_inv, \"Ham\"))\n",
    "\n",
    "print(f'BNB: {acc_bnb}, {pre_bnb}, {rec_bnb}')\n",
    "print(f'MNB: {acc_mnb}, {pre_mnb}, {rec_mnb}')"
   ]
  }
 ],
 "metadata": {
  "kernelspec": {
   "display_name": ".venv",
   "language": "python",
   "name": "python3"
  },
  "language_info": {
   "codemirror_mode": {
    "name": "ipython",
    "version": 3
   },
   "file_extension": ".py",
   "mimetype": "text/x-python",
   "name": "python",
   "nbconvert_exporter": "python",
   "pygments_lexer": "ipython3",
   "version": "3.12.5"
  }
 },
 "nbformat": 4,
 "nbformat_minor": 2
}
