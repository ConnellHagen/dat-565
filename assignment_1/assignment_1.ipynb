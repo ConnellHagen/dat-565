{
 "cells": [
  {
   "cell_type": "code",
   "execution_count": 1,
   "metadata": {},
   "outputs": [],
   "source": [
    "# Import Statements\n",
    "import numpy as np\n",
    "import pandas as pd\n",
    "import matplotlib.pyplot as plt\n",
    "\n",
    "# Initialization of data, and data cleanup\n",
    "df = pd.read_csv(\"swedish_population_by_year_and_sex_1860-2022.csv\")\n",
    "\n",
    "df.loc[df[\"age\"] == \"110+\", \"age\"] = \"110\"\n",
    "\n",
    "years = [i for i in range(1860, 2023)]\n"
   ]
  },
  {
   "cell_type": "markdown",
   "metadata": {},
   "source": [
    "In the following code, we split up the data into subgroups based on the ages of the population. We also found the dependency ratio for each of the years from 1860-2022 stored them in `dep_ratio`. We then found the fraction of the population that each age group made up, and stored them in `frac_pop`."
   ]
  },
  {
   "cell_type": "code",
   "execution_count": 2,
   "metadata": {},
   "outputs": [],
   "source": [
    "age_0_to_14 =  df[df[\"age\"].astype(int) <= 14].sum().drop([\"age\", \"sex\"], axis=\"index\")\n",
    "age_15_to_64 = df[(df[\"age\"].astype(int) > 14) & (df[\"age\"].astype(int) < 65)].sum().drop([\"age\", \"sex\"], axis=\"index\")\n",
    "age_65_plus =  df[df[\"age\"].astype(int) >= 65].sum().drop([\"age\", \"sex\"], axis=\"index\")\n",
    "\n",
    "dep_ratio = np.array([[i, 0.0] for i in years])\n",
    "dep_ratio = pd.DataFrame(dep_ratio)\n",
    "dep_ratio.columns = [\"year\", \"dep_ratio\"]\n",
    "\n",
    "total_pop = np.array([[i, 0.0] for i in years])\n",
    "total_pop = pd.DataFrame(total_pop)\n",
    "total_pop.columns = [\"year\", \"population\"]\n",
    "\n",
    "frac_pop = np.array([[i, 0.0, 0.0, 0.0] for i in years])\n",
    "frac_pop = pd.DataFrame(frac_pop)\n",
    "frac_pop.columns = [\"year\", \"0_14\", \"15_64\", \"65+\"]\n",
    "\n",
    "for i in years:\n",
    "    dep_ratio.loc[dep_ratio[\"year\"] == i, \"dep_ratio\"] = 100 * (age_0_to_14.iloc[i - 1860] + age_65_plus.iloc[i - 1860]) / age_15_to_64.iloc[i - 1860] \n",
    "    total_pop.loc[total_pop[\"year\"] == i, \"population\"] = age_0_to_14.iloc[i - 1860] + age_65_plus.iloc[i - 1860] + age_15_to_64.iloc[i - 1860]\n",
    "    \n",
    "    frac_pop.loc[frac_pop[\"year\"] == i, \"0_14\"] = age_0_to_14.iloc[i - 1860] / total_pop.loc[total_pop[\"year\"] == i, \"population\"]\n",
    "    frac_pop.loc[frac_pop[\"year\"] == i, \"15_64\"] = age_15_to_64.iloc[i - 1860] / total_pop.loc[total_pop[\"year\"] == i, \"population\"]\n",
    "    frac_pop.loc[frac_pop[\"year\"] == i, \"65+\"] = age_65_plus.iloc[i - 1860] / total_pop.loc[total_pop[\"year\"] == i, \"population\"]"
   ]
  },
  {
   "cell_type": "markdown",
   "metadata": {},
   "source": [
    "We then plotted the results for the two graphs. First was the dependency ratio over time."
   ]
  },
  {
   "cell_type": "code",
   "execution_count": null,
   "metadata": {},
   "outputs": [],
   "source": [
    "plt.scatter([i for i in years], [dep_ratio.loc[dep_ratio[\"year\"] == i, \"dep_ratio\"] for i in years])\n",
    "plt.title(\"Dependency Ratio in Sweden 1860-2022\")\n",
    "plt.xlabel(\"Year\")\n",
    "plt.ylabel(\"Dependency Ratio\")\n"
   ]
  },
  {
   "cell_type": "markdown",
   "metadata": {},
   "source": [
    "Then we plotted the results for the fraction of the population for each age group."
   ]
  },
  {
   "cell_type": "code",
   "execution_count": null,
   "metadata": {},
   "outputs": [],
   "source": [
    "plt.scatter([i for i in years], [frac_pop.loc[frac_pop[\"year\"] == i, \"0_14\"] for i in years], color = \"red\", label = \"0 - 14\")\n",
    "plt.scatter([i for i in years], [frac_pop.loc[frac_pop[\"year\"] == i, \"15_64\"] for i in years], color = \"green\", label = \"15 - 64\")\n",
    "plt.scatter([i for i in years], [frac_pop.loc[frac_pop[\"year\"] == i, \"65+\"] for i in years], color = \"blue\", label = \"65+\")\n",
    "plt.legend()\n",
    "plt.title(\"Age Group Populations in Sweden 1860-2022\")\n",
    "plt.xlabel(\"Year\")\n",
    "plt.ylabel(\"Percentage of Population\")"
   ]
  }
 ],
 "metadata": {
  "kernelspec": {
   "display_name": ".venv",
   "language": "python",
   "name": "python3"
  },
  "language_info": {
   "codemirror_mode": {
    "name": "ipython",
    "version": 3
   },
   "file_extension": ".py",
   "mimetype": "text/x-python",
   "name": "python",
   "nbconvert_exporter": "python",
   "pygments_lexer": "ipython3",
   "version": "3.12.5"
  }
 },
 "nbformat": 4,
 "nbformat_minor": 2
}
